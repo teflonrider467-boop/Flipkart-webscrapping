{
 "cells": [
  {
   "cell_type": "code",
   "execution_count": 2,
   "id": "41eeb616",
   "metadata": {},
   "outputs": [],
   "source": [
    "import pandas as pd\n",
    "import requests\n",
    "from bs4 import BeautifulSoup"
   ]
  },
  {
   "cell_type": "code",
   "execution_count": 32,
   "id": "03eab863",
   "metadata": {},
   "outputs": [
    {
     "name": "stdout",
     "output_type": "stream",
     "text": [
      "                                   Product Name   Prices  \\\n",
      "0    OnePlus 10 Pro 5G (Volcanic Black, 128 GB)  ₹48,949   \n",
      "1    OnePlus 10 Pro 5G (Emerald Forest, 128 GB)  ₹49,890   \n",
      "2      OPPO Reno8 Pro 5G (Glazed Black, 256 GB)  ₹43,490   \n",
      "3    OnePlus 10 Pro 5G (Volcanic Black, 128 GB)  ₹49,949   \n",
      "4                   IQOO 9T 5G (LEGEND, 128 GB)  ₹49,499   \n",
      "..                                          ...      ...   \n",
      "235            vivo T2 5G (Nitro Blaze, 128 GB)  ₹19,999   \n",
      "236      Infinix NOTE 12i (Alpine White, 64 GB)   ₹8,499   \n",
      "237         MOTOROLA G32 (Mineral Gray, 128 GB)  ₹10,999   \n",
      "238          Infinix HOT 30i (Marigold, 128 GB)   ₹8,399   \n",
      "239          MOTOROLA e13 (Aurora Green, 64 GB)   ₹6,999   \n",
      "\n",
      "                                           Description Reviews  \n",
      "0    8 GB RAM | 128 GB ROM17.02 cm (6.7 inch) Displ...     4.2  \n",
      "1    8 GB RAM | 128 GB ROM17.02 cm (6.7 inch) Displ...     4.2  \n",
      "2    12 GB RAM | 256 GB ROM17.02 cm (6.7 inch) Full...     4.4  \n",
      "3    8 GB RAM | 128 GB ROM17.02 cm (6.7 inch) Displ...     4.2  \n",
      "4    8 GB RAM | 128 GB ROM17.22 cm (6.78 inch) Disp...     4.1  \n",
      "..                                                 ...     ...  \n",
      "235  8 GB RAM | 128 GB ROM16.21 cm (6.38 inch) Full...     4.3  \n",
      "236  4 GB RAM | 64 GB ROM | Expandable Upto 512 GB1...     4.2  \n",
      "237  8 GB RAM | 128 GB ROM16.51 cm (6.5 inch) Full ...     4.1  \n",
      "238  8 GB RAM | 128 GB ROM | Expandable Upto 1 TB16...     4.2  \n",
      "239  4 GB RAM | 64 GB ROM | Expandable Upto 1 TB16....     4.1  \n",
      "\n",
      "[240 rows x 4 columns]\n"
     ]
    }
   ],
   "source": [
    "Product_name = []\n",
    "Prices = []\n",
    "Description = []\n",
    "Reviews  =[]\n",
    "for i in range(2, 12):\n",
    "    url = 'https://www.flipkart.com/search?q=mobiles+under+50000&otracker=search&otracker1=search&marketplace=FLIPKART&as-show=on&as=off&page='+ str(i)\n",
    "    r = requests.get(url)\n",
    "    # print(r.text)\n",
    "    soup = BeautifulSoup(r.text, 'lxml')\n",
    "    #print(soup)\n",
    "    \n",
    "    box = soup.find('div', attrs = {'class', '_1YokD2 _3Mn1Gg'})\n",
    "    names = box.find_all('div', attrs = {'class': '_4rR01T'})\n",
    "    # print(names)\n",
    "    for i in names:\n",
    "        name = i.text\n",
    "        Product_name.append(name)\n",
    "    \n",
    "    prices = box.find_all('div', attrs = {'class':'_30jeq3 _1_WHN1'})\n",
    "    # print(prices)\n",
    "    for i in prices:\n",
    "        price = i.text\n",
    "        Prices.append(price)\n",
    "    \n",
    "    desc = box.find_all('ul', attrs = {'class':'_1xgFaf'})\n",
    "    # print(desc)\n",
    "    for i in desc:\n",
    "        descrip = i.text\n",
    "        Description.append(descrip)\n",
    "    \n",
    "    reviews= box.find_all('div', attrs = {'class':'_3LWZlK'})\n",
    "    # print(reviews)\n",
    "    \n",
    "    for i in reviews:\n",
    "        review = i.text\n",
    "        Reviews.append(review)\n",
    "df = pd.DataFrame({\"Product Name\":Product_name, \"Prices\": Prices, \"Description\": Description, \"Reviews\": Reviews})\n",
    "print(df)\n",
    "\n",
    "\n",
    "\n",
    "#np = soup.find('a', attrs = {'class': '_1LKTO3'}).get('href')\n",
    "#cnp = 'https://www.flipkart.com' + np\n",
    "#print(cnp)\n",
    "    \n",
    "\n",
    "\n",
    "    \n",
    "\n"
   ]
  },
  {
   "cell_type": "code",
   "execution_count": 34,
   "id": "38107117",
   "metadata": {},
   "outputs": [],
   "source": [
    "df.to_csv(\"Flipkart_mobiles_under_50000.csv\")"
   ]
  },
  {
   "cell_type": "code",
   "execution_count": null,
   "id": "4b87e2c1",
   "metadata": {},
   "outputs": [],
   "source": []
  },
  {
   "cell_type": "code",
   "execution_count": 7,
   "id": "1a247de7",
   "metadata": {},
   "outputs": [],
   "source": []
  },
  {
   "cell_type": "code",
   "execution_count": null,
   "id": "b002ea84",
   "metadata": {},
   "outputs": [],
   "source": [
    "\n"
   ]
  }
 ],
 "metadata": {
  "kernelspec": {
   "display_name": "Python 3 (ipykernel)",
   "language": "python",
   "name": "python3"
  },
  "language_info": {
   "codemirror_mode": {
    "name": "ipython",
    "version": 3
   },
   "file_extension": ".py",
   "mimetype": "text/x-python",
   "name": "python",
   "nbconvert_exporter": "python",
   "pygments_lexer": "ipython3",
   "version": "3.9.7"
  }
 },
 "nbformat": 4,
 "nbformat_minor": 5
}
